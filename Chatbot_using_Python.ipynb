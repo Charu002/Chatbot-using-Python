{
  "nbformat": 4,
  "nbformat_minor": 0,
  "metadata": {
    "colab": {
      "name": "Chatbot using Python",
      "provenance": [],
      "collapsed_sections": [],
      "authorship_tag": "ABX9TyM0JbL6rZJGnPU8RAmRL+dl",
      "include_colab_link": true
    },
    "kernelspec": {
      "name": "python3",
      "display_name": "Python 3"
    },
    "language_info": {
      "name": "python"
    }
  },
  "cells": [
    {
      "cell_type": "markdown",
      "metadata": {
        "id": "view-in-github",
        "colab_type": "text"
      },
      "source": [
        "<a href=\"https://colab.research.google.com/github/Charu002/Chatbot-using-Python/blob/main/Chatbot_using_Python.ipynb\" target=\"_parent\"><img src=\"https://colab.research.google.com/assets/colab-badge.svg\" alt=\"Open In Colab\"/></a>"
      ]
    },
    {
      "cell_type": "code",
      "execution_count": 12,
      "metadata": {
        "id": "DVRBlYu5WrkT"
      },
      "outputs": [],
      "source": [
        "import numpy as np\n",
        "import nltk\n",
        "import string\n",
        "import random"
      ]
    },
    {
      "cell_type": "markdown",
      "source": [
        "Importing and reading corpus\n"
      ],
      "metadata": {
        "id": "Unbgq9CHXWjo"
      }
    },
    {
      "cell_type": "code",
      "source": [
        "f = open('chatbot.txt','r',errors = 'ignore')\n",
        "raw_doc= f.read()\n",
        "raw_doc=raw_doc.lower()  #Text to lowercase\n",
        "nltk.download('punkt') #Punkt tokenizer(pretrained one)\n",
        "nltk.download('wordnet') #Wordnet dictionaru\n",
        "sent_tokens=nltk.sent_tokenize(raw_doc) #Docs to list of sentences\n",
        "word_tokens=nltk.word_tokenize(raw_doc) #Docs to list of Words\n"
      ],
      "metadata": {
        "id": "AtbqUwoVXa9b",
        "colab": {
          "base_uri": "https://localhost:8080/"
        },
        "outputId": "f7c316fa-405f-4b1a-fd10-6e651b7e524a"
      },
      "execution_count": 13,
      "outputs": [
        {
          "output_type": "stream",
          "name": "stdout",
          "text": [
            "[nltk_data] Downloading package punkt to /root/nltk_data...\n",
            "[nltk_data]   Package punkt is already up-to-date!\n",
            "[nltk_data] Downloading package wordnet to /root/nltk_data...\n",
            "[nltk_data]   Package wordnet is already up-to-date!\n"
          ]
        }
      ]
    },
    {
      "cell_type": "code",
      "source": [
        "sent_tokens[:2]"
      ],
      "metadata": {
        "id": "jbIvgyztag_w",
        "colab": {
          "base_uri": "https://localhost:8080/"
        },
        "outputId": "917fede0-7659-4ee0-aed8-f6aa2a9af98a"
      },
      "execution_count": 5,
      "outputs": [
        {
          "output_type": "execute_result",
          "data": {
            "text/plain": [
              "['data science is an interdisciplinary field that uses scientific methods, processes, algorithms and systems to extract knowledge and insights from noisy, structured and unstructured data,[1][2] and apply knowledge and actionable insights from data across a broad range of application domains.',\n",
              " 'data science is related to data mining, machine learning and big data.']"
            ]
          },
          "metadata": {},
          "execution_count": 5
        }
      ]
    },
    {
      "cell_type": "code",
      "source": [
        "word_tokens[:2]"
      ],
      "metadata": {
        "colab": {
          "base_uri": "https://localhost:8080/"
        },
        "id": "_Y1xY6gUaoI4",
        "outputId": "e2662554-fc60-4f06-aae6-ab331fb32c5d"
      },
      "execution_count": 6,
      "outputs": [
        {
          "output_type": "execute_result",
          "data": {
            "text/plain": [
              "['data', 'science']"
            ]
          },
          "metadata": {},
          "execution_count": 6
        }
      ]
    },
    {
      "cell_type": "markdown",
      "source": [
        "Text Preprocessing(removing extras like punctuations)\n"
      ],
      "metadata": {
        "id": "FyHw7BqhbBQX"
      }
    },
    {
      "cell_type": "code",
      "source": [
        "from nltk.tokenize import word_tokenize\n",
        "lemmer=nltk.stem.WordNetLemmatizer() #Wordnet is semantically oriented english dict with nltk\n",
        "def LemTokens(tokens):\n",
        "  return[lemmer.lemmatize(token) for token in tokens]\n",
        "remove_punct_dict=dict((ord(punct),None) for punct in string.punctuation)\n",
        "def LemNormalize(text):\n",
        "  return LemTokens(nltk.word_tokenize(text.lower().translate(remove_punct_dict)))\n"
      ],
      "metadata": {
        "id": "gxBY1J5vbEB3"
      },
      "execution_count": 7,
      "outputs": []
    },
    {
      "cell_type": "markdown",
      "source": [
        "Define greet function"
      ],
      "metadata": {
        "id": "RKq5OBlsck19"
      }
    },
    {
      "cell_type": "code",
      "source": [
        "GREET_INPUTS = (\"hello\",\"hi\",\"greetings\",\"sup\",\"hey\")\n",
        "GREET_RESPONSES = [\"hi\",\"hey\",\"nods\",\"hi there\",\"hello\",\"I am glad you are talking to me\"]\n",
        "def greet(sentence):\n",
        "\n",
        "  for word in sentence.split():\n",
        "    if word.lower() in GREET_INPUTS:\n",
        "      return random.choice(GREET_RESPONSES)"
      ],
      "metadata": {
        "id": "c1aUrRSTcnvH"
      },
      "execution_count": 8,
      "outputs": []
    },
    {
      "cell_type": "markdown",
      "source": [
        "Response Generation"
      ],
      "metadata": {
        "id": "59lXUsrmdf1O"
      }
    },
    {
      "cell_type": "code",
      "source": [
        "from sklearn.feature_extraction.text import TfidfVectorizer #TermFrequencyinDocumentfrequency-how many times each word repeated in corpus\n",
        "from sklearn.metrics.pairwise import cosine_similarity #takes the vector data and gives normalized data"
      ],
      "metadata": {
        "id": "jbuAW0BLdibS"
      },
      "execution_count": 9,
      "outputs": []
    },
    {
      "cell_type": "code",
      "source": [
        "def response(user_response):\n",
        "  robo1_response=''\n",
        "  TfidVec = TfidfVectorizer(tokenizer=LemNormalize,stop_words=\"english\")\n",
        "  tfidf=TfidVec.fit_transform(sent_tokens)\n",
        "  vals=cosine_similarity(tfidf[-1],tfidf)\n",
        "  id=vals.argsort()[0][-2]\n",
        "  flat=vals.flatten()\n",
        "  flat.sort()\n",
        "  req_tfidf = flat[-2]\n",
        "  if(req_tfidf==0):\n",
        "    robo1_response=robo1_response+\"I am sorry! I don't get you\"\n",
        "    return robo1_response\n",
        "  else:\n",
        "    robo1_response = robo1_response+sent_tokens(idx)  \n",
        "    return robo1_response"
      ],
      "metadata": {
        "id": "YYXsEb24dzcK"
      },
      "execution_count": 10,
      "outputs": []
    },
    {
      "cell_type": "markdown",
      "source": [
        "Defining start and end protocols"
      ],
      "metadata": {
        "id": "IHiGVbcYghQM"
      }
    },
    {
      "cell_type": "code",
      "source": [
        "\n",
        "flag=True\n",
        "print(\"BOT: I'm stark.Let's have a chat. Also if you want to exit just type bye!\")\n",
        "while(flag==True):\n",
        "  user_response=input()\n",
        "  user_response=user_response.lower()\n",
        "  if(user_response!='bye'):\n",
        "    if(user_response=='thanks' or user_response=='thankyou'):\n",
        "      flag=False\n",
        "      print(\"BOT: You are welcome\")\n",
        "    else:\n",
        "      if(greet(user_response)!=None):\n",
        "        print(\"BOT: \"+greet(user_response))\n",
        "      else:\n",
        "        sent_tokens.append(user_response)  \n",
        "        word_tokens=word_tokens+nltk.word_tokenize(user_response)\n",
        "        final_words=list(set(word_tokens))\n",
        "        print(\"BOT: \",end=\"\")\n",
        "        print(response(user_response))\n",
        "        sent_tokens.remove(user_response)\n",
        "else:\n",
        "   flag=False\n",
        "   print(\"BOT: GoodBye! TakeCare <3\")       \n",
        "  \n",
        "\n",
        "\n"
      ],
      "metadata": {
        "colab": {
          "base_uri": "https://localhost:8080/"
        },
        "id": "lCkEUR-5gpg4",
        "outputId": "9793f40b-76a4-451e-b9bc-e41e040011be"
      },
      "execution_count": null,
      "outputs": [
        {
          "output_type": "stream",
          "name": "stdout",
          "text": [
            "BOT: I'm stark.Let's have a chat. Also if you want to exit just type bye!\n",
            "hi\n",
            "BOT: hello\n",
            "sup\n",
            "BOT: hi\n",
            "hello\n",
            "BOT: hello\n"
          ]
        }
      ]
    }
  ]
}